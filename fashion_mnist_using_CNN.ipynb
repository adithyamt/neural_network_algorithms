{
  "nbformat": 4,
  "nbformat_minor": 0,
  "metadata": {
    "colab": {
      "name": "fashion-mnist_using_CNN.ipynb",
      "provenance": [],
      "collapsed_sections": []
    },
    "kernelspec": {
      "display_name": "Python 3",
      "name": "python3"
    },
    "accelerator": "GPU"
  },
  "cells": [
    {
      "cell_type": "code",
      "metadata": {
        "id": "OvNtUs46q56l"
      },
      "source": [
        "import tensorflow as tf\n",
        "import numpy as np\n",
        "import matplotlib.pyplot as plt\n",
        "\n",
        "\n",
        "from tensorflow import keras\n",
        "from keras import datasets,layers,models\n",
        "from keras.layers import Dropout,Dense, Conv2D, MaxPooling2D,Flatten"
      ],
      "execution_count": null,
      "outputs": []
    },
    {
      "cell_type": "code",
      "metadata": {
        "id": "p5LlL9OssTjB",
        "colab": {
          "base_uri": "https://localhost:8080/"
        },
        "outputId": "e668afde-36ad-4466-e5f8-b5f8121a2f4f"
      },
      "source": [
        "(x_train,y_train),(x_test,y_test)=datasets.fashion_mnist.load_data()"
      ],
      "execution_count": null,
      "outputs": [
        {
          "output_type": "stream",
          "text": [
            "Downloading data from https://storage.googleapis.com/tensorflow/tf-keras-datasets/train-labels-idx1-ubyte.gz\n",
            "32768/29515 [=================================] - 0s 0us/step\n",
            "Downloading data from https://storage.googleapis.com/tensorflow/tf-keras-datasets/train-images-idx3-ubyte.gz\n",
            "26427392/26421880 [==============================] - 0s 0us/step\n",
            "Downloading data from https://storage.googleapis.com/tensorflow/tf-keras-datasets/t10k-labels-idx1-ubyte.gz\n",
            "8192/5148 [===============================================] - 0s 0us/step\n",
            "Downloading data from https://storage.googleapis.com/tensorflow/tf-keras-datasets/t10k-images-idx3-ubyte.gz\n",
            "4423680/4422102 [==============================] - 0s 0us/step\n"
          ],
          "name": "stdout"
        }
      ]
    },
    {
      "cell_type": "code",
      "metadata": {
        "colab": {
          "base_uri": "https://localhost:8080/"
        },
        "id": "E-HE-p6atQfC",
        "outputId": "af6d17a9-674b-4ad3-db95-aea6b1b5cf91"
      },
      "source": [
        "print(x_train.shape,y_train.shape)"
      ],
      "execution_count": null,
      "outputs": [
        {
          "output_type": "stream",
          "text": [
            "(60000, 28, 28) (60000,)\n"
          ],
          "name": "stdout"
        }
      ]
    },
    {
      "cell_type": "code",
      "metadata": {
        "colab": {
          "base_uri": "https://localhost:8080/"
        },
        "id": "1f-T4mgWtbTZ",
        "outputId": "4280d398-a60c-422f-e181-d2b986edadaa"
      },
      "source": [
        "print(x_test.shape,y_test.shape)"
      ],
      "execution_count": null,
      "outputs": [
        {
          "output_type": "stream",
          "text": [
            "(10000, 28, 28) (10000,)\n"
          ],
          "name": "stdout"
        }
      ]
    },
    {
      "cell_type": "code",
      "metadata": {
        "colab": {
          "base_uri": "https://localhost:8080/"
        },
        "id": "Oa_mWBRmvLdQ",
        "outputId": "58fb7c1a-c796-4359-cce3-5c118b821a62"
      },
      "source": [
        "x_train[0]"
      ],
      "execution_count": null,
      "outputs": [
        {
          "output_type": "execute_result",
          "data": {
            "text/plain": [
              "array([[  0,   0,   0,   0,   0,   0,   0,   0,   0,   0,   0,   0,   0,\n",
              "          0,   0,   0,   0,   0,   0,   0,   0,   0,   0,   0,   0,   0,\n",
              "          0,   0],\n",
              "       [  0,   0,   0,   0,   0,   0,   0,   0,   0,   0,   0,   0,   0,\n",
              "          0,   0,   0,   0,   0,   0,   0,   0,   0,   0,   0,   0,   0,\n",
              "          0,   0],\n",
              "       [  0,   0,   0,   0,   0,   0,   0,   0,   0,   0,   0,   0,   0,\n",
              "          0,   0,   0,   0,   0,   0,   0,   0,   0,   0,   0,   0,   0,\n",
              "          0,   0],\n",
              "       [  0,   0,   0,   0,   0,   0,   0,   0,   0,   0,   0,   0,   1,\n",
              "          0,   0,  13,  73,   0,   0,   1,   4,   0,   0,   0,   0,   1,\n",
              "          1,   0],\n",
              "       [  0,   0,   0,   0,   0,   0,   0,   0,   0,   0,   0,   0,   3,\n",
              "          0,  36, 136, 127,  62,  54,   0,   0,   0,   1,   3,   4,   0,\n",
              "          0,   3],\n",
              "       [  0,   0,   0,   0,   0,   0,   0,   0,   0,   0,   0,   0,   6,\n",
              "          0, 102, 204, 176, 134, 144, 123,  23,   0,   0,   0,   0,  12,\n",
              "         10,   0],\n",
              "       [  0,   0,   0,   0,   0,   0,   0,   0,   0,   0,   0,   0,   0,\n",
              "          0, 155, 236, 207, 178, 107, 156, 161, 109,  64,  23,  77, 130,\n",
              "         72,  15],\n",
              "       [  0,   0,   0,   0,   0,   0,   0,   0,   0,   0,   0,   1,   0,\n",
              "         69, 207, 223, 218, 216, 216, 163, 127, 121, 122, 146, 141,  88,\n",
              "        172,  66],\n",
              "       [  0,   0,   0,   0,   0,   0,   0,   0,   0,   1,   1,   1,   0,\n",
              "        200, 232, 232, 233, 229, 223, 223, 215, 213, 164, 127, 123, 196,\n",
              "        229,   0],\n",
              "       [  0,   0,   0,   0,   0,   0,   0,   0,   0,   0,   0,   0,   0,\n",
              "        183, 225, 216, 223, 228, 235, 227, 224, 222, 224, 221, 223, 245,\n",
              "        173,   0],\n",
              "       [  0,   0,   0,   0,   0,   0,   0,   0,   0,   0,   0,   0,   0,\n",
              "        193, 228, 218, 213, 198, 180, 212, 210, 211, 213, 223, 220, 243,\n",
              "        202,   0],\n",
              "       [  0,   0,   0,   0,   0,   0,   0,   0,   0,   1,   3,   0,  12,\n",
              "        219, 220, 212, 218, 192, 169, 227, 208, 218, 224, 212, 226, 197,\n",
              "        209,  52],\n",
              "       [  0,   0,   0,   0,   0,   0,   0,   0,   0,   0,   6,   0,  99,\n",
              "        244, 222, 220, 218, 203, 198, 221, 215, 213, 222, 220, 245, 119,\n",
              "        167,  56],\n",
              "       [  0,   0,   0,   0,   0,   0,   0,   0,   0,   4,   0,   0,  55,\n",
              "        236, 228, 230, 228, 240, 232, 213, 218, 223, 234, 217, 217, 209,\n",
              "         92,   0],\n",
              "       [  0,   0,   1,   4,   6,   7,   2,   0,   0,   0,   0,   0, 237,\n",
              "        226, 217, 223, 222, 219, 222, 221, 216, 223, 229, 215, 218, 255,\n",
              "         77,   0],\n",
              "       [  0,   3,   0,   0,   0,   0,   0,   0,   0,  62, 145, 204, 228,\n",
              "        207, 213, 221, 218, 208, 211, 218, 224, 223, 219, 215, 224, 244,\n",
              "        159,   0],\n",
              "       [  0,   0,   0,   0,  18,  44,  82, 107, 189, 228, 220, 222, 217,\n",
              "        226, 200, 205, 211, 230, 224, 234, 176, 188, 250, 248, 233, 238,\n",
              "        215,   0],\n",
              "       [  0,  57, 187, 208, 224, 221, 224, 208, 204, 214, 208, 209, 200,\n",
              "        159, 245, 193, 206, 223, 255, 255, 221, 234, 221, 211, 220, 232,\n",
              "        246,   0],\n",
              "       [  3, 202, 228, 224, 221, 211, 211, 214, 205, 205, 205, 220, 240,\n",
              "         80, 150, 255, 229, 221, 188, 154, 191, 210, 204, 209, 222, 228,\n",
              "        225,   0],\n",
              "       [ 98, 233, 198, 210, 222, 229, 229, 234, 249, 220, 194, 215, 217,\n",
              "        241,  65,  73, 106, 117, 168, 219, 221, 215, 217, 223, 223, 224,\n",
              "        229,  29],\n",
              "       [ 75, 204, 212, 204, 193, 205, 211, 225, 216, 185, 197, 206, 198,\n",
              "        213, 240, 195, 227, 245, 239, 223, 218, 212, 209, 222, 220, 221,\n",
              "        230,  67],\n",
              "       [ 48, 203, 183, 194, 213, 197, 185, 190, 194, 192, 202, 214, 219,\n",
              "        221, 220, 236, 225, 216, 199, 206, 186, 181, 177, 172, 181, 205,\n",
              "        206, 115],\n",
              "       [  0, 122, 219, 193, 179, 171, 183, 196, 204, 210, 213, 207, 211,\n",
              "        210, 200, 196, 194, 191, 195, 191, 198, 192, 176, 156, 167, 177,\n",
              "        210,  92],\n",
              "       [  0,   0,  74, 189, 212, 191, 175, 172, 175, 181, 185, 188, 189,\n",
              "        188, 193, 198, 204, 209, 210, 210, 211, 188, 188, 194, 192, 216,\n",
              "        170,   0],\n",
              "       [  2,   0,   0,   0,  66, 200, 222, 237, 239, 242, 246, 243, 244,\n",
              "        221, 220, 193, 191, 179, 182, 182, 181, 176, 166, 168,  99,  58,\n",
              "          0,   0],\n",
              "       [  0,   0,   0,   0,   0,   0,   0,  40,  61,  44,  72,  41,  35,\n",
              "          0,   0,   0,   0,   0,   0,   0,   0,   0,   0,   0,   0,   0,\n",
              "          0,   0],\n",
              "       [  0,   0,   0,   0,   0,   0,   0,   0,   0,   0,   0,   0,   0,\n",
              "          0,   0,   0,   0,   0,   0,   0,   0,   0,   0,   0,   0,   0,\n",
              "          0,   0],\n",
              "       [  0,   0,   0,   0,   0,   0,   0,   0,   0,   0,   0,   0,   0,\n",
              "          0,   0,   0,   0,   0,   0,   0,   0,   0,   0,   0,   0,   0,\n",
              "          0,   0]], dtype=uint8)"
            ]
          },
          "metadata": {
            "tags": []
          },
          "execution_count": 5
        }
      ]
    },
    {
      "cell_type": "code",
      "metadata": {
        "colab": {
          "base_uri": "https://localhost:8080/",
          "height": 189
        },
        "id": "xw-ELCUHvbaB",
        "outputId": "8087e6bc-3b61-4ec8-cf83-47a40fe13517"
      },
      "source": [
        "plt.figure(figsize=(15,4))\n",
        "for i in range(5):\n",
        "  plt.subplot(1,5,i+1)\n",
        "  plt.xticks([])\n",
        "  plt.yticks([])\n",
        "  plt.grid(False)\n",
        "  plt.imshow(x_train[i],cmap='gray')\n",
        "  plt.xlabel(str(y_train[i]))\n",
        "plt.show()  \n"
      ],
      "execution_count": null,
      "outputs": [
        {
          "output_type": "display_data",
          "data": {
            "image/png": "[encoded data removed]",
            "text/plain": [
              "<Figure size 1080x288 with 5 Axes>"
            ]
          },
          "metadata": {
            "tags": []
          }
        }
      ]
    },
    {
      "cell_type": "code",
      "metadata": {
        "id": "W0ykG4eZw3GB"
      },
      "source": [
        "x_train=keras.utils.normalize(x_train,axis=1)\n",
        "x_test=keras.utils.normalize(x_test,axis=1)"
      ],
      "execution_count": null,
      "outputs": []
    },
    {
      "cell_type": "code",
      "metadata": {
        "colab": {
          "base_uri": "https://localhost:8080/"
        },
        "id": "8Om9yPDbxeep",
        "outputId": "258c00b0-2f17-4df8-e260-393d9a6b51f4"
      },
      "source": [
        "x_train[0]"
      ],
      "execution_count": null,
      "outputs": [
        {
          "output_type": "execute_result",
          "data": {
            "text/plain": [
              "array([[0.        , 0.        , 0.        , 0.        , 0.        ,\n",
              "        0.        , 0.        , 0.        , 0.        , 0.        ,\n",
              "        0.        , 0.        , 0.        , 0.        , 0.        ,\n",
              "        0.        , 0.        , 0.        , 0.        , 0.        ,\n",
              "        0.        , 0.        , 0.        , 0.        , 0.        ,\n",
              "        0.        , 0.        , 0.        ],\n",
              "       [0.        , 0.        , 0.        , 0.        , 0.        ,\n",
              "        0.        , 0.        , 0.        , 0.        , 0.        ,\n",
              "        0.        , 0.        , 0.        , 0.        , 0.        ,\n",
              "        0.        , 0.        , 0.        , 0.        , 0.        ,\n",
              "        0.        , 0.        , 0.        , 0.        , 0.        ,\n",
              "        0.        , 0.        , 0.        ],\n",
              "       [0.        , 0.        , 0.        , 0.        , 0.        ,\n",
              "        0.        , 0.        , 0.        , 0.        , 0.        ,\n",
              "        0.        , 0.        , 0.        , 0.        , 0.        ,\n",
              "        0.        , 0.        , 0.        , 0.        , 0.        ,\n",
              "        0.        , 0.        , 0.        , 0.        , 0.        ,\n",
              "        0.        , 0.        , 0.        ],\n",
              "       [0.        , 0.        , 0.        , 0.        , 0.        ,\n",
              "        0.        , 0.        , 0.        , 0.        , 0.        ,\n",
              "        0.        , 0.        , 0.00135942, 0.        , 0.        ,\n",
              "        0.0135775 , 0.07675477, 0.        , 0.        , 0.00108359,\n",
              "        0.00452712, 0.        , 0.        , 0.        , 0.        ,\n",
              "        0.00112628, 0.00124281, 0.        ],\n",
              "       [0.        , 0.        , 0.        , 0.        , 0.        ,\n",
              "        0.        , 0.        , 0.        , 0.        , 0.        ,\n",
              "        0.        , 0.        , 0.00407827, 0.        , 0.0393841 ,\n",
              "        0.14204153, 0.13353227, 0.06706289, 0.05944322, 0.        ,\n",
              "        0.        , 0.        , 0.00114334, 0.00349231, 0.00461146,\n",
              "        0.        , 0.        , 0.01550248],\n",
              "       [0.        , 0.        , 0.        , 0.        , 0.        ,\n",
              "        0.        , 0.        , 0.        , 0.        , 0.        ,\n",
              "        0.        , 0.        , 0.00815655, 0.        , 0.11158829,\n",
              "        0.2130623 , 0.18505259, 0.14494239, 0.15851525, 0.13328144,\n",
              "        0.02603093, 0.        , 0.        , 0.        , 0.        ,\n",
              "        0.01351531, 0.01242807, 0.        ],\n",
              "       [0.        , 0.        , 0.        , 0.        , 0.        ,\n",
              "        0.        , 0.        , 0.        , 0.        , 0.        ,\n",
              "        0.        , 0.        , 0.        , 0.        , 0.16957044,\n",
              "        0.24648383, 0.21764709, 0.19253541, 0.11778563, 0.16903988,\n",
              "        0.18221649, 0.12429049, 0.07317407, 0.02677434, 0.08877055,\n",
              "        0.14641589, 0.08948208, 0.07751239],\n",
              "       [0.        , 0.        , 0.        , 0.        , 0.        ,\n",
              "        0.        , 0.        , 0.        , 0.        , 0.        ,\n",
              "        0.        , 0.00148028, 0.        , 0.08043127, 0.22645859,\n",
              "        0.23290633, 0.22921287, 0.23363847, 0.23777287, 0.176625  ,\n",
              "        0.14373599, 0.13797385, 0.13948807, 0.16995886, 0.16255387,\n",
              "        0.0991123 , 0.21376275, 0.34105453],\n",
              "       [0.        , 0.        , 0.        , 0.        , 0.        ,\n",
              "        0.        , 0.        , 0.        , 0.        , 0.00158012,\n",
              "        0.00154801, 0.00148028, 0.        , 0.23313412, 0.25380866,\n",
              "        0.24230614, 0.2449844 , 0.24770005, 0.24547847, 0.24164034,\n",
              "        0.24333258, 0.24287959, 0.18750855, 0.14784092, 0.14180231,\n",
              "        0.22075012, 0.28460274, 0.        ],\n",
              "       [0.        , 0.        , 0.        , 0.        , 0.        ,\n",
              "        0.        , 0.        , 0.        , 0.        , 0.        ,\n",
              "        0.        , 0.        , 0.        , 0.21331772, 0.24615064,\n",
              "        0.22559537, 0.23447005, 0.24661839, 0.25868808, 0.2459747 ,\n",
              "        0.2535186 , 0.25314211, 0.25610924, 0.25726649, 0.25708875,\n",
              "        0.27593765, 0.21500556, 0.        ],\n",
              "       [0.        , 0.        , 0.        , 0.        , 0.        ,\n",
              "        0.        , 0.        , 0.        , 0.        , 0.        ,\n",
              "        0.        , 0.        , 0.        , 0.22497443, 0.24943265,\n",
              "        0.22768422, 0.2239557 , 0.2141686 , 0.19814406, 0.22972086,\n",
              "        0.23767368, 0.24059903, 0.24353245, 0.25959469, 0.25363015,\n",
              "        0.27368509, 0.25104696, 0.        ],\n",
              "       [0.        , 0.        , 0.        , 0.        , 0.        ,\n",
              "        0.        , 0.        , 0.        , 0.        , 0.00158012,\n",
              "        0.00464404, 0.        , 0.0163131 , 0.25528186, 0.24068063,\n",
              "        0.22141768, 0.22921287, 0.20767864, 0.18603525, 0.2459747 ,\n",
              "        0.23541013, 0.24858099, 0.25610924, 0.24678957, 0.26054734,\n",
              "        0.22187639, 0.2597466 , 0.26870963],\n",
              "       [0.        , 0.        , 0.        , 0.        , 0.        ,\n",
              "        0.        , 0.        , 0.        , 0.        , 0.        ,\n",
              "        0.00928807, 0.        , 0.13458306, 0.28442363, 0.24286863,\n",
              "        0.22977306, 0.22921287, 0.2195769 , 0.21795846, 0.23947316,\n",
              "        0.24333258, 0.24287959, 0.25382255, 0.25610239, 0.28245176,\n",
              "        0.13402686, 0.20754872, 0.2893796 ],\n",
              "       [0.        , 0.        , 0.        , 0.        , 0.        ,\n",
              "        0.        , 0.        , 0.        , 0.        , 0.00632047,\n",
              "        0.        , 0.        , 0.07476837, 0.27509826, 0.24943265,\n",
              "        0.24021729, 0.23972722, 0.2595983 , 0.25538568, 0.23080445,\n",
              "        0.24672792, 0.25428239, 0.26754269, 0.25261008, 0.25017156,\n",
              "        0.23539171, 0.11433822, 0.        ],\n",
              "       [0.        , 0.        , 0.00196864, 0.00743066, 0.01073107,\n",
              "        0.01210602, 0.00340005, 0.        , 0.        , 0.        ,\n",
              "        0.        , 0.        , 0.3221837 , 0.26344156, 0.23739862,\n",
              "        0.23290633, 0.23341861, 0.23688345, 0.24437767, 0.23947316,\n",
              "        0.24446436, 0.25428239, 0.26182596, 0.25028188, 0.25132443,\n",
              "        0.28720041, 0.09569612, 0.        ],\n",
              "       [0.        , 0.00677527, 0.        , 0.        , 0.        ,\n",
              "        0.        , 0.        , 0.        , 0.        , 0.09796732,\n",
              "        0.2244617 , 0.30197776, 0.30994887, 0.24129382, 0.23302261,\n",
              "        0.23081749, 0.22921287, 0.2249852 , 0.23226887, 0.2362224 ,\n",
              "        0.2535186 , 0.25428239, 0.25039252, 0.25028188, 0.25824161,\n",
              "        0.27481137, 0.19760627, 0.        ],\n",
              "       [0.        , 0.        , 0.        , 0.        , 0.0321932 ,\n",
              "        0.07609496, 0.13940217, 0.17644206, 0.29930777, 0.36026691,\n",
              "        0.34056258, 0.32862285, 0.2949952 , 0.26344156, 0.21880057,\n",
              "        0.21410672, 0.22185283, 0.24878171, 0.24657927, 0.25355982,\n",
              "        0.19919318, 0.2143726 , 0.28583621, 0.28869724, 0.26861739,\n",
              "        0.26805371, 0.26720344, 0.        ],\n",
              "       [0.        , 0.12873017, 0.36813591, 0.38639423, 0.40062647,\n",
              "        0.38220425, 0.38080592, 0.34299018, 0.32306235, 0.33814525,\n",
              "        0.32198644, 0.30937917, 0.27188498, 0.18534163, 0.2680307 ,\n",
              "        0.20157364, 0.21659565, 0.24121009, 0.28070408, 0.27631519,\n",
              "        0.25012326, 0.26682547, 0.25267921, 0.24562547, 0.25363015,\n",
              "        0.26129606, 0.30573045, 0.        ],\n",
              "       [0.02264812, 0.45620167, 0.44885021, 0.41611686, 0.39526094,\n",
              "        0.36490994, 0.35870558, 0.35288412, 0.32464599, 0.32392419,\n",
              "        0.3173424 , 0.32566229, 0.32626197, 0.09325365, 0.16410043,\n",
              "        0.26632787, 0.24077866, 0.23904677, 0.20695046, 0.1668727 ,\n",
              "        0.21616988, 0.23945875, 0.23324234, 0.24329727, 0.25593588,\n",
              "        0.25679095, 0.27963151, 0.        ],\n",
              "       [0.73983865, 0.52621282, 0.38979097, 0.39010956, 0.39704945,\n",
              "        0.39603969, 0.38930605, 0.38586395, 0.39432611, 0.34762596,\n",
              "        0.30031428, 0.31826087, 0.2949952 , 0.28092662, 0.07111019,\n",
              "        0.07624288, 0.11145213, 0.12655417, 0.18493445, 0.23730599,\n",
              "        0.25012326, 0.24516015, 0.24810583, 0.25959469, 0.25708875,\n",
              "        0.25228585, 0.28460274, 0.14985729],\n",
              "       [0.56620305, 0.46071852, 0.41735195, 0.37896357, 0.34518263,\n",
              "        0.35453335, 0.35870558, 0.37102303, 0.34206602, 0.29232183,\n",
              "        0.30495831, 0.30493832, 0.26916613, 0.24828784, 0.26256069,\n",
              "        0.20366249, 0.23867579, 0.2650066 , 0.26309128, 0.24164034,\n",
              "        0.24672792, 0.24173931, 0.23895907, 0.25843059, 0.25363015,\n",
              "        0.24890702, 0.28584554, 0.34622202],\n",
              "       [0.36236995, 0.45846009, 0.36026135, 0.36038692, 0.38095285,\n",
              "        0.3406979 , 0.31450489, 0.31330833, 0.30722596, 0.30338266,\n",
              "        0.31269837, 0.31678059, 0.29771405, 0.2576132 , 0.24068063,\n",
              "        0.24648383, 0.23657292, 0.23363847, 0.21905926, 0.22321933,\n",
              "        0.21051098, 0.20639064, 0.20237203, 0.2002255 , 0.20866844,\n",
              "        0.2308866 , 0.25601818, 0.59426168],\n",
              "       [0.        , 0.27552774, 0.43113243, 0.35852926, 0.32014347,\n",
              "        0.2957327 , 0.31110484, 0.32320228, 0.32306235, 0.33182478,\n",
              "        0.3297265 , 0.30641861, 0.28683865, 0.24479083, 0.21880057,\n",
              "        0.20470691, 0.20397843, 0.20659698, 0.21465606, 0.2069655 ,\n",
              "        0.22409233, 0.21893371, 0.20122869, 0.18159987, 0.19252834,\n",
              "        0.19935087, 0.26098941, 0.47540935],\n",
              "       [0.        , 0.        , 0.14567945, 0.3510986 , 0.37916434,\n",
              "        0.33032132, 0.29750463, 0.28362649, 0.27713682, 0.28600136,\n",
              "        0.28638217, 0.27829323, 0.2569313 , 0.21914607, 0.21114255,\n",
              "        0.20679576, 0.21449278, 0.22606686, 0.23116807, 0.22755369,\n",
              "        0.23880546, 0.2143726 , 0.21494883, 0.22583574, 0.22134995,\n",
              "        0.24327564, 0.21127714, 0.        ],\n",
              "       [0.01509875, 0.        , 0.        , 0.        , 0.11804173,\n",
              "        0.34588619, 0.37740587, 0.39081092, 0.37848972, 0.38238856,\n",
              "        0.38081089, 0.3597088 , 0.33169967, 0.2576132 , 0.24068063,\n",
              "        0.20157364, 0.20082412, 0.19361707, 0.20034566, 0.19721319,\n",
              "        0.20485208, 0.20068924, 0.18979524, 0.1955691 , 0.11413357,\n",
              "        0.06532401, 0.        , 0.        ],\n",
              "       [0.        , 0.        , 0.        , 0.        , 0.        ,\n",
              "        0.        , 0.        , 0.06595965, 0.09660198, 0.06952519,\n",
              "        0.11145684, 0.06069161, 0.04757987, 0.        , 0.        ,\n",
              "        0.        , 0.        , 0.        , 0.        , 0.        ,\n",
              "        0.        , 0.        , 0.        , 0.        , 0.        ,\n",
              "        0.        , 0.        , 0.        ],\n",
              "       [0.        , 0.        , 0.        , 0.        , 0.        ,\n",
              "        0.        , 0.        , 0.        , 0.        , 0.        ,\n",
              "        0.        , 0.        , 0.        , 0.        , 0.        ,\n",
              "        0.        , 0.        , 0.        , 0.        , 0.        ,\n",
              "        0.        , 0.        , 0.        , 0.        , 0.        ,\n",
              "        0.        , 0.        , 0.        ],\n",
              "       [0.        , 0.        , 0.        , 0.        , 0.        ,\n",
              "        0.        , 0.        , 0.        , 0.        , 0.        ,\n",
              "        0.        , 0.        , 0.        , 0.        , 0.        ,\n",
              "        0.        , 0.        , 0.        , 0.        , 0.        ,\n",
              "        0.        , 0.        , 0.        , 0.        , 0.        ,\n",
              "        0.        , 0.        , 0.        ]])"
            ]
          },
          "metadata": {
            "tags": []
          },
          "execution_count": 8
        }
      ]
    },
    {
      "cell_type": "code",
      "metadata": {
        "id": "HB_26AXWzf6M"
      },
      "source": [
        "from keras.utils import np_utils"
      ],
      "execution_count": null,
      "outputs": []
    },
    {
      "cell_type": "code",
      "metadata": {
        "id": "KgAJthMqxiQ_"
      },
      "source": [
        "#y_train=np_utils.to_categorical(y_train,10)\n",
        "#y_test=np_utils.to_categorical(y_test,10)"
      ],
      "execution_count": null,
      "outputs": []
    },
    {
      "cell_type": "code",
      "metadata": {
        "colab": {
          "base_uri": "https://localhost:8080/"
        },
        "id": "HNOXiu8-9Rj5",
        "outputId": "b186232c-b51e-43c4-f910-feeadb5f4684"
      },
      "source": [
        "y_train[3]"
      ],
      "execution_count": null,
      "outputs": [
        {
          "output_type": "execute_result",
          "data": {
            "text/plain": [
              "3"
            ]
          },
          "metadata": {
            "tags": []
          },
          "execution_count": 11
        }
      ]
    },
    {
      "cell_type": "code",
      "metadata": {
        "id": "hPrsTnJG26Ue"
      },
      "source": [
        "x_train = x_train.reshape(x_train.shape[0],28,28,1)\n",
        "x_test = x_test.reshape(x_test.shape[0],28,28,1)"
      ],
      "execution_count": null,
      "outputs": []
    },
    {
      "cell_type": "code",
      "metadata": {
        "colab": {
          "base_uri": "https://localhost:8080/"
        },
        "id": "HNK0nIQJnvZY",
        "outputId": "b908aee8-afc1-4eda-af9a-5d93205e58bd"
      },
      "source": [
        "x_train.shape"
      ],
      "execution_count": null,
      "outputs": [
        {
          "output_type": "execute_result",
          "data": {
            "text/plain": [
              "(60000, 28, 28, 1)"
            ]
          },
          "metadata": {
            "tags": []
          },
          "execution_count": 13
        }
      ]
    },
    {
      "cell_type": "code",
      "metadata": {
        "id": "GcM0tv_yz0X-"
      },
      "source": [
        "model=keras.Sequential()\n",
        "model.add(Conv2D(filters=32,kernel_size=(3,3),activation='relu',input_shape=(28,28,1)))\n",
        "model.add(Dropout(0.4))\n",
        "model.add(MaxPooling2D(2,2))\n",
        "\n",
        "model.add(Conv2D(filters=64,kernel_size=(3,3),padding='same',activation='relu'))\n",
        "model.add(Conv2D(filters=64,kernel_size=(3,3),activation='relu'))\n",
        "model.add(Dropout(0.4))\n",
        "model.add(MaxPooling2D(2,2))\n",
        "\n",
        "model.add(Conv2D(filters=256,kernel_size=(3,3),padding='same',activation='relu'))\n",
        "model.add(Conv2D(filters=256,kernel_size=(3,3),activation='relu'))\n",
        "model.add(Dropout(0.4))\n",
        "\n",
        "\n",
        "model.add(Flatten())\n",
        "model.add(Dense(256,activation='relu'))\n",
        "model.add(Dense(128,activation='relu'))\n",
        "model.add(Dense(64,activation='relu'))\n",
        "model.add(Dense(32,activation='relu'))\n",
        "\n",
        "model.add(Dense(10,activation='softmax'))\n",
        "\n",
        "model.compile(optimizer='adam',loss='sparse_categorical_crossentropy',metrics=['accuracy'])\n",
        "\n"
      ],
      "execution_count": null,
      "outputs": []
    },
    {
      "cell_type": "code",
      "metadata": {
        "colab": {
          "base_uri": "https://localhost:8080/"
        },
        "id": "wbb27ZRQxqEo",
        "outputId": "437d57a2-4971-4a9b-e715-b874d78a2939"
      },
      "source": [
        "model.summary()\n"
      ],
      "execution_count": null,
      "outputs": [
        {
          "output_type": "stream",
          "text": [
            "Model: \"sequential_3\"\n",
            "_________________________________________________________________\n",
            "Layer (type)                 Output Shape              Param #   \n",
            "=================================================================\n",
            "conv2d_15 (Conv2D)           (None, 26, 26, 32)        320       \n",
            "_________________________________________________________________\n",
            "dropout_9 (Dropout)          (None, 26, 26, 32)        0         \n",
            "_________________________________________________________________\n",
            "max_pooling2d_9 (MaxPooling2 (None, 13, 13, 32)        0         \n",
            "_________________________________________________________________\n",
            "conv2d_16 (Conv2D)           (None, 13, 13, 64)        18496     \n",
            "_________________________________________________________________\n",
            "conv2d_17 (Conv2D)           (None, 11, 11, 64)        36928     \n",
            "_________________________________________________________________\n",
            "dropout_10 (Dropout)         (None, 11, 11, 64)        0         \n",
            "_________________________________________________________________\n",
            "max_pooling2d_10 (MaxPooling (None, 5, 5, 64)          0         \n",
            "_________________________________________________________________\n",
            "conv2d_18 (Conv2D)           (None, 5, 5, 256)         147712    \n",
            "_________________________________________________________________\n",
            "conv2d_19 (Conv2D)           (None, 3, 3, 256)         590080    \n",
            "_________________________________________________________________\n",
            "dropout_11 (Dropout)         (None, 3, 3, 256)         0         \n",
            "_________________________________________________________________\n",
            "flatten_3 (Flatten)          (None, 2304)              0         \n",
            "_________________________________________________________________\n",
            "dense_14 (Dense)             (None, 256)               590080    \n",
            "_________________________________________________________________\n",
            "dense_15 (Dense)             (None, 128)               32896     \n",
            "_________________________________________________________________\n",
            "dense_16 (Dense)             (None, 64)                8256      \n",
            "_________________________________________________________________\n",
            "dense_17 (Dense)             (None, 32)                2080      \n",
            "_________________________________________________________________\n",
            "dense_18 (Dense)             (None, 10)                330       \n",
            "=================================================================\n",
            "Total params: 1,427,178\n",
            "Trainable params: 1,427,178\n",
            "Non-trainable params: 0\n",
            "_________________________________________________________________\n"
          ],
          "name": "stdout"
        }
      ]
    },
    {
      "cell_type": "code",
      "metadata": {
        "id": "tV7ua3TMaBxN"
      },
      "source": [
        ""
      ],
      "execution_count": null,
      "outputs": []
    },
    {
      "cell_type": "code",
      "metadata": {
        "id": "CDcEqGaK0FS3",
        "colab": {
          "base_uri": "https://localhost:8080/"
        },
        "outputId": "baa09ba7-bd39-478f-f299-7fec4736d0a0"
      },
      "source": [
        "model.fit(x_train,y_train,epochs=10)"
      ],
      "execution_count": null,
      "outputs": [
        {
          "output_type": "stream",
          "text": [
            "Epoch 1/10\n",
            "1875/1875 [==============================] - 8s 4ms/step - loss: 0.7953 - accuracy: 0.6974\n",
            "Epoch 2/10\n",
            "1875/1875 [==============================] - 7s 4ms/step - loss: 0.3741 - accuracy: 0.8601\n",
            "Epoch 3/10\n",
            "1875/1875 [==============================] - 7s 4ms/step - loss: 0.3268 - accuracy: 0.8794\n",
            "Epoch 4/10\n",
            "1875/1875 [==============================] - 7s 4ms/step - loss: 0.3014 - accuracy: 0.8874\n",
            "Epoch 5/10\n",
            "1875/1875 [==============================] - 7s 4ms/step - loss: 0.2843 - accuracy: 0.8946\n",
            "Epoch 6/10\n",
            "1875/1875 [==============================] - 7s 4ms/step - loss: 0.2727 - accuracy: 0.8986\n",
            "Epoch 7/10\n",
            "1875/1875 [==============================] - 7s 4ms/step - loss: 0.2535 - accuracy: 0.9041\n",
            "Epoch 8/10\n",
            "1875/1875 [==============================] - 7s 4ms/step - loss: 0.2524 - accuracy: 0.9063\n",
            "Epoch 9/10\n",
            "1875/1875 [==============================] - 7s 4ms/step - loss: 0.2414 - accuracy: 0.9122\n",
            "Epoch 10/10\n",
            "1875/1875 [==============================] - 8s 4ms/step - loss: 0.2314 - accuracy: 0.9132\n"
          ],
          "name": "stdout"
        },
        {
          "output_type": "execute_result",
          "data": {
            "text/plain": [
              "<tensorflow.python.keras.callbacks.History at 0x7f6fc45063c8>"
            ]
          },
          "metadata": {
            "tags": []
          },
          "execution_count": 37
        }
      ]
    },
    {
      "cell_type": "code",
      "metadata": {
        "colab": {
          "base_uri": "https://localhost:8080/"
        },
        "id": "GaVDQXT1prCQ",
        "outputId": "5b1d07c6-d8b6-4667-a21d-3d03d8e3c522"
      },
      "source": [
        "model.evaluate(x_test,y_test)"
      ],
      "execution_count": null,
      "outputs": [
        {
          "output_type": "stream",
          "text": [
            "313/313 [==============================] - 1s 3ms/step - loss: 0.2670 - accuracy: 0.9096\n"
          ],
          "name": "stdout"
        },
        {
          "output_type": "execute_result",
          "data": {
            "text/plain": [
              "[0.26701876521110535, 0.909600019454956]"
            ]
          },
          "metadata": {
            "tags": []
          },
          "execution_count": 38
        }
      ]
    },
    {
      "cell_type": "code",
      "metadata": {
        "id": "1Lcr3dcIpxOt"
      },
      "source": [
        ""
      ],
      "execution_count": null,
      "outputs": []
    },
    {
      "cell_type": "code",
      "metadata": {
        "id": "ykvrrUYJp3X0"
      },
      "source": [
        "prediction=model.predict(x_test)"
      ],
      "execution_count": null,
      "outputs": []
    },
    {
      "cell_type": "code",
      "metadata": {
        "id": "tA-4ylRup_jo",
        "colab": {
          "base_uri": "https://localhost:8080/"
        },
        "outputId": "2a00a18b-09d6-44be-decc-2f0840eb4e2d"
      },
      "source": [
        "np.argmax(prediction[10])"
      ],
      "execution_count": null,
      "outputs": [
        {
          "output_type": "execute_result",
          "data": {
            "text/plain": [
              "4"
            ]
          },
          "metadata": {
            "tags": []
          },
          "execution_count": 30
        }
      ]
    },
    {
      "cell_type": "code",
      "metadata": {
        "id": "Qcu-Ytn_qGQp",
        "colab": {
          "base_uri": "https://localhost:8080/"
        },
        "outputId": "73108a11-d506-4ef6-f3ce-744b416caf13"
      },
      "source": [
        "y_test[10]"
      ],
      "execution_count": null,
      "outputs": [
        {
          "output_type": "execute_result",
          "data": {
            "text/plain": [
              "4"
            ]
          },
          "metadata": {
            "tags": []
          },
          "execution_count": 27
        }
      ]
    }
  ]
}