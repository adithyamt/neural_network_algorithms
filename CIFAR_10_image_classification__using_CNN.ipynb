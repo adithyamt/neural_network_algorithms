{
  "nbformat": 4,
  "nbformat_minor": 0,
  "metadata": {
    "colab": {
      "name": "CIFAR-10  image classification _using CNN.ipynb",
      "provenance": []
    },
    "kernelspec": {
      "name": "python3",
      "display_name": "Python 3"
    }
  },
  "cells": [
    {
      "cell_type": "code",
      "metadata": {
        "id": "Y8gaTQYAmhi0"
      },
      "source": [
        "import tensorflow as tf\n",
        "import matplotlib.pyplot as plt\n",
        "from tensorflow import keras\n",
        "from tensorflow.keras import datasets,layers,models\n",
        "import numpy as np"
      ],
      "execution_count": null,
      "outputs": []
    },
    {
      "cell_type": "code",
      "metadata": {
        "id": "kenEdH57pior",
        "colab": {
          "base_uri": "https://localhost:8080/"
        },
        "outputId": "5cdbfca1-a783-4482-c8df-04d49ff0dbde"
      },
      "source": [
        "(x_train,y_train),(x_test,y_test)=datasets.cifar10.load_data()"
      ],
      "execution_count": null,
      "outputs": [
        {
          "output_type": "stream",
          "text": [
            "Downloading data from https://www.cs.toronto.edu/~kriz/cifar-10-python.tar.gz\n",
            "170500096/170498071 [==============================] - 11s 0us/step\n"
          ],
          "name": "stdout"
        }
      ]
    },
    {
      "cell_type": "code",
      "metadata": {
        "colab": {
          "base_uri": "https://localhost:8080/"
        },
        "id": "hIOfTBECqb1u",
        "outputId": "3e9f213f-1a2b-4845-9cc2-e7fb10bddc32"
      },
      "source": [
        "print(x_train.shape,y_train.shape)"
      ],
      "execution_count": null,
      "outputs": [
        {
          "output_type": "stream",
          "text": [
            "(50000, 32, 32, 3) (50000, 1)\n"
          ],
          "name": "stdout"
        }
      ]
    },
    {
      "cell_type": "code",
      "metadata": {
        "colab": {
          "base_uri": "https://localhost:8080/"
        },
        "id": "yVqh2Nh9qkPu",
        "outputId": "bcf3d892-3845-493d-9250-b58a8b8d5e76"
      },
      "source": [
        "print(x_test.shape,y_test.shape)"
      ],
      "execution_count": null,
      "outputs": [
        {
          "output_type": "stream",
          "text": [
            "(10000, 32, 32, 3) (10000, 1)\n"
          ],
          "name": "stdout"
        }
      ]
    },
    {
      "cell_type": "code",
      "metadata": {
        "colab": {
          "base_uri": "https://localhost:8080/"
        },
        "id": "uGCS6HQJqxAT",
        "outputId": "f0104162-8e5f-47fe-d1db-e736db24e75b"
      },
      "source": [
        "x_train[0]"
      ],
      "execution_count": null,
      "outputs": [
        {
          "output_type": "execute_result",
          "data": {
            "text/plain": [
              "array([[[ 59,  62,  63],\n",
              "        [ 43,  46,  45],\n",
              "        [ 50,  48,  43],\n",
              "        ...,\n",
              "        [158, 132, 108],\n",
              "        [152, 125, 102],\n",
              "        [148, 124, 103]],\n",
              "\n",
              "       [[ 16,  20,  20],\n",
              "        [  0,   0,   0],\n",
              "        [ 18,   8,   0],\n",
              "        ...,\n",
              "        [123,  88,  55],\n",
              "        [119,  83,  50],\n",
              "        [122,  87,  57]],\n",
              "\n",
              "       [[ 25,  24,  21],\n",
              "        [ 16,   7,   0],\n",
              "        [ 49,  27,   8],\n",
              "        ...,\n",
              "        [118,  84,  50],\n",
              "        [120,  84,  50],\n",
              "        [109,  73,  42]],\n",
              "\n",
              "       ...,\n",
              "\n",
              "       [[208, 170,  96],\n",
              "        [201, 153,  34],\n",
              "        [198, 161,  26],\n",
              "        ...,\n",
              "        [160, 133,  70],\n",
              "        [ 56,  31,   7],\n",
              "        [ 53,  34,  20]],\n",
              "\n",
              "       [[180, 139,  96],\n",
              "        [173, 123,  42],\n",
              "        [186, 144,  30],\n",
              "        ...,\n",
              "        [184, 148,  94],\n",
              "        [ 97,  62,  34],\n",
              "        [ 83,  53,  34]],\n",
              "\n",
              "       [[177, 144, 116],\n",
              "        [168, 129,  94],\n",
              "        [179, 142,  87],\n",
              "        ...,\n",
              "        [216, 184, 140],\n",
              "        [151, 118,  84],\n",
              "        [123,  92,  72]]], dtype=uint8)"
            ]
          },
          "metadata": {
            "tags": []
          },
          "execution_count": 6
        }
      ]
    },
    {
      "cell_type": "code",
      "metadata": {
        "colab": {
          "base_uri": "https://localhost:8080/"
        },
        "id": "70Jh9iEksQKk",
        "outputId": "f77920f3-b9f3-48b2-b21e-8ed725dee0ca"
      },
      "source": [
        "y_train[:5]"
      ],
      "execution_count": null,
      "outputs": [
        {
          "output_type": "execute_result",
          "data": {
            "text/plain": [
              "array([[6],\n",
              "       [9],\n",
              "       [9],\n",
              "       [4],\n",
              "       [1]], dtype=uint8)"
            ]
          },
          "metadata": {
            "tags": []
          },
          "execution_count": 7
        }
      ]
    },
    {
      "cell_type": "code",
      "metadata": {
        "colab": {
          "base_uri": "https://localhost:8080/",
          "height": 283
        },
        "id": "1_OidPt1q_nm",
        "outputId": "937e6ac8-0340-4974-a119-c2784fddaf60"
      },
      "source": [
        "plt.imshow(x_train[0])"
      ],
      "execution_count": null,
      "outputs": [
        {
          "output_type": "execute_result",
          "data": {
            "text/plain": [
              "<matplotlib.image.AxesImage at 0x7f82d34e1908>"
            ]
          },
          "metadata": {
            "tags": []
          },
          "execution_count": 8
        },
        {
          "output_type": "display_data",
          "data": {
            "image/png": "[encoded data removed]",
            "text/plain": [
              "<Figure size 432x288 with 1 Axes>"
            ]
          },
          "metadata": {
            "tags": [],
            "needs_background": "light"
          }
        }
      ]
    },
    {
      "cell_type": "code",
      "metadata": {
        "colab": {
          "base_uri": "https://localhost:8080/",
          "height": 262
        },
        "id": "iZ3ursMrtGLI",
        "outputId": "9c07c7fd-806b-4192-f0aa-341750522df9"
      },
      "source": [
        "plt.figure(figsize=(15,4))\n",
        "for i in range(10):\n",
        "  plt.subplot(2,5,i+1)\n",
        "  plt.xticks([])\n",
        "  plt.yticks([])\n",
        "  plt.grid(False)\n",
        "  plt.imshow(x_train[i])\n",
        "  plt.xlabel(str(y_train[i]))\n",
        "plt.show()  "
      ],
      "execution_count": null,
      "outputs": [
        {
          "output_type": "display_data",
          "data": {
            "image/png": "[encoded data removed]",
            "text/plain": [
              "<Figure size 1080x288 with 10 Axes>"
            ]
          },
          "metadata": {
            "tags": []
          }
        }
      ]
    },
    {
      "cell_type": "code",
      "metadata": {
        "id": "STHBW-gNwRU6"
      },
      "source": [
        "x_train=keras.utils.normalize(x_train,axis=1)\n",
        "x_test=keras.utils.normalize(x_test,axis=1)"
      ],
      "execution_count": null,
      "outputs": []
    },
    {
      "cell_type": "code",
      "metadata": {
        "colab": {
          "base_uri": "https://localhost:8080/"
        },
        "id": "pUQIYsFjxfdL",
        "outputId": "07710afd-c1f3-4e43-8260-a9c97c5a55e0"
      },
      "source": [
        "x_train[0]"
      ],
      "execution_count": null,
      "outputs": [
        {
          "output_type": "execute_result",
          "data": {
            "text/plain": [
              "array([[[0.07182773, 0.09722503, 0.15002467],\n",
              "        [0.05555073, 0.08510671, 0.1680591 ],\n",
              "        [0.06416572, 0.08557414, 0.15041218],\n",
              "        ...,\n",
              "        [0.19738931, 0.2065452 , 0.30386149],\n",
              "        [0.20651145, 0.21914754, 0.33373633],\n",
              "        [0.20868805, 0.22118572, 0.32022806]],\n",
              "\n",
              "       [[0.01947871, 0.03136291, 0.04762688],\n",
              "        [0.        , 0.        , 0.        ],\n",
              "        [0.02309966, 0.01426236, 0.        ],\n",
              "        ...,\n",
              "        [0.15366383, 0.1376968 , 0.15474428],\n",
              "        [0.16167672, 0.14551397, 0.16359624],\n",
              "        [0.17202664, 0.15518676, 0.17721359]],\n",
              "\n",
              "       [[0.03043548, 0.0376355 , 0.05000822],\n",
              "        [0.02067004, 0.01295102, 0.        ],\n",
              "        [0.0628824 , 0.04813545, 0.02798366],\n",
              "        ...,\n",
              "        [0.14741733, 0.13143786, 0.14067662],\n",
              "        [0.16303535, 0.14726715, 0.16359624],\n",
              "        [0.15369593, 0.13021418, 0.13057843]],\n",
              "\n",
              "       ...,\n",
              "\n",
              "       [[0.25322319, 0.26658477, 0.22860901],\n",
              "        [0.25966738, 0.28307232, 0.12697798],\n",
              "        [0.25409624, 0.28702993, 0.0909469 ],\n",
              "        ...,\n",
              "        [0.19988791, 0.20810994, 0.19694726],\n",
              "        [0.07608316, 0.05434859, 0.02290347],\n",
              "        [0.07473288, 0.0606477 , 0.06218021]],\n",
              "\n",
              "       [[0.21913545, 0.21797225, 0.22860901],\n",
              "        [0.22349481, 0.22756794, 0.15685516],\n",
              "        [0.23869647, 0.25672243, 0.10493873],\n",
              "        ...,\n",
              "        [0.22987109, 0.23158099, 0.26447204],\n",
              "        [0.13178691, 0.10869718, 0.11124544],\n",
              "        [0.11703451, 0.09453906, 0.10570635]],\n",
              "\n",
              "       [[0.21548319, 0.22581298, 0.27623589],\n",
              "        [0.21703543, 0.23866882, 0.35105678],\n",
              "        [0.22971327, 0.25315684, 0.30432233],\n",
              "        ...,\n",
              "        [0.26984867, 0.2879115 , 0.39389453],\n",
              "        [0.20515282, 0.20687528, 0.27484168],\n",
              "        [0.17343669, 0.16410554, 0.22384874]]])"
            ]
          },
          "metadata": {
            "tags": []
          },
          "execution_count": 11
        }
      ]
    },
    {
      "cell_type": "code",
      "metadata": {
        "colab": {
          "base_uri": "https://localhost:8080/"
        },
        "id": "WCEPSGURxwM7",
        "outputId": "a9b3d6bd-bb49-4745-ebbb-8f06f0412be8"
      },
      "source": [
        "model=keras.Sequential([\n",
        "                        layers.Flatten(input_shape=(32,32,3)),\n",
        "                        layers.Dense(3000,activation='relu'),\n",
        "                        layers.Dense(1000,activation='relu'),\n",
        "                        layers.Dense(10,activation='softmax')\n",
        "])\n",
        "\n",
        "model.compile(optimizer='adam',loss='sparse_categorical_crossentropy',metrics=['accuracy'])\n",
        "model.fit(x_train,y_train,batch_size=300,epochs=5)"
      ],
      "execution_count": null,
      "outputs": [
        {
          "output_type": "stream",
          "text": [
            "Epoch 1/5\n",
            "167/167 [==============================] - 55s 324ms/step - loss: 2.3922 - accuracy: 0.1829\n",
            "Epoch 2/5\n",
            "167/167 [==============================] - 55s 332ms/step - loss: 1.9401 - accuracy: 0.3028\n",
            "Epoch 3/5\n",
            "167/167 [==============================] - 55s 332ms/step - loss: 1.8366 - accuracy: 0.3454\n",
            "Epoch 4/5\n",
            "167/167 [==============================] - 60s 357ms/step - loss: 1.7794 - accuracy: 0.3702\n",
            "Epoch 5/5\n",
            "167/167 [==============================] - 55s 332ms/step - loss: 1.7076 - accuracy: 0.3936\n"
          ],
          "name": "stdout"
        },
        {
          "output_type": "execute_result",
          "data": {
            "text/plain": [
              "<tensorflow.python.keras.callbacks.History at 0x7f82d25a9da0>"
            ]
          },
          "metadata": {
            "tags": []
          },
          "execution_count": 12
        }
      ]
    },
    {
      "cell_type": "code",
      "metadata": {
        "colab": {
          "base_uri": "https://localhost:8080/"
        },
        "id": "lgiZndhLr2-S",
        "outputId": "c0b52eb8-7c10-492a-b033-21e205e15ec3"
      },
      "source": [
        "cnn_model=keras.Sequential([\n",
        "                            layers.Conv2D(filters=32,kernel_size=(3,3),activation='relu',input_shape=(32,32,3)),\n",
        "                            layers.MaxPool2D((2,2)),\n",
        "\n",
        "                            layers.Conv2D(filters=64,kernel_size=(3,3),activation='relu'),\n",
        "                            layers.MaxPool2D((2,2)),\n",
        "\n",
        "                            layers.Flatten(),\n",
        "                            layers.Dense(256,activation='relu'),\n",
        "                            layers.Dense(128,activation='relu'),\n",
        "                            layers.Dense(64,activation='relu'),\n",
        "                            layers.Dense(10,activation='softmax')\n",
        "])\n",
        "\n",
        "cnn_model.compile(optimizer='adam',loss='sparse_categorical_crossentropy',metrics=['accuracy'])\n",
        "\n",
        "cnn_model.fit(x_train,y_train,epochs=10)"
      ],
      "execution_count": null,
      "outputs": [
        {
          "output_type": "stream",
          "text": [
            "Epoch 1/10\n",
            "1563/1563 [==============================] - 63s 40ms/step - loss: 1.8474 - accuracy: 0.3165\n",
            "Epoch 2/10\n",
            "1563/1563 [==============================] - 62s 40ms/step - loss: 1.2126 - accuracy: 0.5677\n",
            "Epoch 3/10\n",
            "1563/1563 [==============================] - 62s 39ms/step - loss: 1.0105 - accuracy: 0.6410\n",
            "Epoch 4/10\n",
            "1563/1563 [==============================] - 62s 39ms/step - loss: 0.8898 - accuracy: 0.6860\n",
            "Epoch 5/10\n",
            "1563/1563 [==============================] - 62s 39ms/step - loss: 0.7764 - accuracy: 0.7310\n",
            "Epoch 6/10\n",
            "1563/1563 [==============================] - 62s 39ms/step - loss: 0.6862 - accuracy: 0.7601\n",
            "Epoch 7/10\n",
            "1563/1563 [==============================] - 62s 40ms/step - loss: 0.5938 - accuracy: 0.7936\n",
            "Epoch 8/10\n",
            "1563/1563 [==============================] - 62s 40ms/step - loss: 0.5185 - accuracy: 0.8184\n",
            "Epoch 9/10\n",
            "1563/1563 [==============================] - 65s 41ms/step - loss: 0.4442 - accuracy: 0.8458\n",
            "Epoch 10/10\n",
            "1563/1563 [==============================] - 61s 39ms/step - loss: 0.3776 - accuracy: 0.8679\n"
          ],
          "name": "stdout"
        },
        {
          "output_type": "execute_result",
          "data": {
            "text/plain": [
              "<tensorflow.python.keras.callbacks.History at 0x7f82cc723550>"
            ]
          },
          "metadata": {
            "tags": []
          },
          "execution_count": 13
        }
      ]
    },
    {
      "cell_type": "code",
      "metadata": {
        "colab": {
          "base_uri": "https://localhost:8080/"
        },
        "id": "WG1n9M6-sJzQ",
        "outputId": "211ac3dd-c0ca-46d7-a002-fa234479caaf"
      },
      "source": [
        "cnn_model.evaluate(x_test,y_test)"
      ],
      "execution_count": null,
      "outputs": [
        {
          "output_type": "stream",
          "text": [
            "313/313 [==============================] - 4s 12ms/step - loss: 1.1945 - accuracy: 0.6661\n"
          ],
          "name": "stdout"
        },
        {
          "output_type": "execute_result",
          "data": {
            "text/plain": [
              "[1.1945085525512695, 0.666100025177002]"
            ]
          },
          "metadata": {
            "tags": []
          },
          "execution_count": 14
        }
      ]
    },
    {
      "cell_type": "code",
      "metadata": {
        "colab": {
          "base_uri": "https://localhost:8080/"
        },
        "id": "ZV8Kw2Dat0cS",
        "outputId": "059d904c-1f3c-40c3-aecc-e329be9d6e4a"
      },
      "source": [
        "cnn_model.summary()"
      ],
      "execution_count": null,
      "outputs": [
        {
          "output_type": "stream",
          "text": [
            "Model: \"sequential_1\"\n",
            "_________________________________________________________________\n",
            "Layer (type)                 Output Shape              Param #   \n",
            "=================================================================\n",
            "conv2d (Conv2D)              (None, 30, 30, 32)        896       \n",
            "_________________________________________________________________\n",
            "max_pooling2d (MaxPooling2D) (None, 15, 15, 32)        0         \n",
            "_________________________________________________________________\n",
            "conv2d_1 (Conv2D)            (None, 13, 13, 64)        18496     \n",
            "_________________________________________________________________\n",
            "max_pooling2d_1 (MaxPooling2 (None, 6, 6, 64)          0         \n",
            "_________________________________________________________________\n",
            "flatten_1 (Flatten)          (None, 2304)              0         \n",
            "_________________________________________________________________\n",
            "dense_3 (Dense)              (None, 256)               590080    \n",
            "_________________________________________________________________\n",
            "dense_4 (Dense)              (None, 128)               32896     \n",
            "_________________________________________________________________\n",
            "dense_5 (Dense)              (None, 64)                8256      \n",
            "_________________________________________________________________\n",
            "dense_6 (Dense)              (None, 10)                650       \n",
            "=================================================================\n",
            "Total params: 651,274\n",
            "Trainable params: 651,274\n",
            "Non-trainable params: 0\n",
            "_________________________________________________________________\n"
          ],
          "name": "stdout"
        }
      ]
    },
    {
      "cell_type": "code",
      "metadata": {
        "id": "qyptbv_ot4v-"
      },
      "source": [
        "prediction=cnn_model.predict(x_test)"
      ],
      "execution_count": null,
      "outputs": []
    },
    {
      "cell_type": "code",
      "metadata": {
        "colab": {
          "base_uri": "https://localhost:8080/"
        },
        "id": "SKzF_ZcWt_sL",
        "outputId": "bd490ff9-f84d-4f5f-9fa6-de8ce93df545"
      },
      "source": [
        "np.argmax(prediction[9])"
      ],
      "execution_count": null,
      "outputs": [
        {
          "output_type": "execute_result",
          "data": {
            "text/plain": [
              "1"
            ]
          },
          "metadata": {
            "tags": []
          },
          "execution_count": 24
        }
      ]
    },
    {
      "cell_type": "code",
      "metadata": {
        "colab": {
          "base_uri": "https://localhost:8080/"
        },
        "id": "qJSkHaiQuSCa",
        "outputId": "1770474e-f0fc-4871-8de4-c8735938f7c8"
      },
      "source": [
        "y_test[9]"
      ],
      "execution_count": null,
      "outputs": [
        {
          "output_type": "execute_result",
          "data": {
            "text/plain": [
              "array([1], dtype=uint8)"
            ]
          },
          "metadata": {
            "tags": []
          },
          "execution_count": 25
        }
      ]
    },
    {
      "cell_type": "code",
      "metadata": {
        "id": "NZ_dPXMYxKMp"
      },
      "source": [
        ""
      ],
      "execution_count": null,
      "outputs": []
    }
  ]
}