{
  "nbformat": 4,
  "nbformat_minor": 0,
  "metadata": {
    "colab": {
      "name": "Text_Clasifficacation_with _RNN.ipynb",
      "provenance": []
    },
    "kernelspec": {
      "name": "python3",
      "display_name": "Python 3"
    },
    "accelerator": "GPU"
  },
  "cells": [
    {
      "cell_type": "code",
      "metadata": {
        "id": "2-g5i28vFk9u"
      },
      "source": [
        "pip install -q tensorflow_datasets"
      ],
      "execution_count": null,
      "outputs": []
    },
    {
      "cell_type": "code",
      "metadata": {
        "id": "4tVQ7U7_AvFW"
      },
      "source": [
        "import numpy as np \n",
        "import tensorflow as tf\n",
        "import tensorflow_datasets as tfds\n",
        "tfds.disable_progress_bar()\n",
        "import matplotlib.pyplot as plt\n",
        "from tensorflow import keras\n",
        "from tensorflow.keras import layers"
      ],
      "execution_count": null,
      "outputs": []
    },
    {
      "cell_type": "code",
      "metadata": {
        "colab": {
          "base_uri": "https://localhost:8080/"
        },
        "id": "o5XLr1BMFhQS",
        "outputId": "849f57b3-ddd5-4783-b02f-b1ca40b902fa"
      },
      "source": [
        "dataset,info=tfds.load('imdb_reviews',with_info=True,as_supervised=True)\n",
        "train_data,test_data=dataset['train'],dataset['test']\n",
        "train_data.element_spec"
      ],
      "execution_count": null,
      "outputs": [
        {
          "output_type": "stream",
          "text": [
            "\u001b[1mDownloading and preparing dataset imdb_reviews/plain_text/1.0.0 (download: 80.23 MiB, generated: Unknown size, total: 80.23 MiB) to /root/tensorflow_datasets/imdb_reviews/plain_text/1.0.0...\u001b[0m\n",
            "Shuffling and writing examples to /root/tensorflow_datasets/imdb_reviews/plain_text/1.0.0.incompleteXKZLCY/imdb_reviews-train.tfrecord\n",
            "Shuffling and writing examples to /root/tensorflow_datasets/imdb_reviews/plain_text/1.0.0.incompleteXKZLCY/imdb_reviews-test.tfrecord\n"
          ],
          "name": "stdout"
        },
        {
          "output_type": "stream",
          "text": [
            "WARNING:absl:Dataset is using deprecated text encoder API which will be removed soon. Please use the plain_text version of the dataset and migrate to `tensorflow_text`.\n"
          ],
          "name": "stderr"
        },
        {
          "output_type": "stream",
          "text": [
            "Shuffling and writing examples to /root/tensorflow_datasets/imdb_reviews/plain_text/1.0.0.incompleteXKZLCY/imdb_reviews-unsupervised.tfrecord\n",
            "\u001b[1mDataset imdb_reviews downloaded and prepared to /root/tensorflow_datasets/imdb_reviews/plain_text/1.0.0. Subsequent calls will reuse this data.\u001b[0m\n"
          ],
          "name": "stdout"
        },
        {
          "output_type": "execute_result",
          "data": {
            "text/plain": [
              "(TensorSpec(shape=(), dtype=tf.string, name=None),\n",
              " TensorSpec(shape=(), dtype=tf.int64, name=None))"
            ]
          },
          "metadata": {
            "tags": []
          },
          "execution_count": 3
        }
      ]
    },
    {
      "cell_type": "code",
      "metadata": {
        "colab": {
          "base_uri": "https://localhost:8080/"
        },
        "id": "4z07FZY4IwGQ",
        "outputId": "1a670558-c7c8-4554-f1ec-7436aac28173"
      },
      "source": [
        "print('train_len {}'.format(len(train_data)),'test_len {}'.format(len(test_data)))"
      ],
      "execution_count": null,
      "outputs": [
        {
          "output_type": "stream",
          "text": [
            "train_len 25000 test_len 25000\n"
          ],
          "name": "stdout"
        }
      ]
    },
    {
      "cell_type": "code",
      "metadata": {
        "colab": {
          "base_uri": "https://localhost:8080/"
        },
        "id": "QdjYPH5YKOek",
        "outputId": "7ae311af-191f-449f-be97-2ce0553c861e"
      },
      "source": [
        "for text,label in train_data.take(5):\n",
        "  print('text:',text.numpy())\n",
        "  print('label:',label.numpy())\n"
      ],
      "execution_count": null,
      "outputs": [
        {
          "output_type": "stream",
          "text": [
            "text: b\"This was an absolutely terrible movie. Don't be lured in by Christopher Walken or Michael Ironside. Both are great actors, but this must simply be their worst role in history. Even their great acting could not redeem this movie's ridiculous storyline. This movie is an early nineties US propaganda piece. The most pathetic scenes were those when the Columbian rebels were making their cases for revolutions. Maria Conchita Alonso appeared phony, and her pseudo-love affair with Walken was nothing but a pathetic emotional plug in a movie that was devoid of any real meaning. I am disappointed that there are movies like this, ruining actor's like Christopher Walken's good name. I could barely sit through it.\"\n",
            "label: 0\n",
            "text: b'I have been known to fall asleep during films, but this is usually due to a combination of things including, really tired, being warm and comfortable on the sette and having just eaten a lot. However on this occasion I fell asleep because the film was rubbish. The plot development was constant. Constantly slow and boring. Things seemed to happen, but with no explanation of what was causing them or why. I admit, I may have missed part of the film, but i watched the majority of it and everything just seemed to happen of its own accord without any real concern for anything else. I cant recommend this film at all.'\n",
            "label: 0\n",
            "text: b'Mann photographs the Alberta Rocky Mountains in a superb fashion, and Jimmy Stewart and Walter Brennan give enjoyable performances as they always seem to do. <br /><br />But come on Hollywood - a Mountie telling the people of Dawson City, Yukon to elect themselves a marshal (yes a marshal!) and to enforce the law themselves, then gunfighters battling it out on the streets for control of the town? <br /><br />Nothing even remotely resembling that happened on the Canadian side of the border during the Klondike gold rush. Mr. Mann and company appear to have mistaken Dawson City for Deadwood, the Canadian North for the American Wild West.<br /><br />Canadian viewers be prepared for a Reefer Madness type of enjoyable howl with this ludicrous plot, or, to shake your head in disgust.'\n",
            "label: 0\n",
            "text: b'This is the kind of film for a snowy Sunday afternoon when the rest of the world can go ahead with its own business as you descend into a big arm-chair and mellow for a couple of hours. Wonderful performances from Cher and Nicolas Cage (as always) gently row the plot along. There are no rapids to cross, no dangerous waters, just a warm and witty paddle through New York life at its best. A family film in every sense and one that deserves the praise it received.'\n",
            "label: 1\n",
            "text: b'As others have mentioned, all the women that go nude in this film are mostly absolutely gorgeous. The plot very ably shows the hypocrisy of the female libido. When men are around they want to be pursued, but when no \"men\" are around, they become the pursuers of a 14 year old boy. And the boy becomes a man really fast (we should all be so lucky at this age!). He then gets up the courage to pursue his true love.'\n",
            "label: 1\n"
          ],
          "name": "stdout"
        }
      ]
    },
    {
      "cell_type": "code",
      "metadata": {
        "id": "hA4c8PeFLOGq"
      },
      "source": [
        "BUFFER_SIZE=10000\n",
        "BATCH_SIZE=64"
      ],
      "execution_count": null,
      "outputs": []
    },
    {
      "cell_type": "code",
      "metadata": {
        "id": "xJmo6MqXMvEY"
      },
      "source": [
        "train_data=train_data.shuffle(BUFFER_SIZE).batch(BATCH_SIZE).prefetch(tf.data.AUTOTUNE)\n",
        "test_data=test_data.batch(BATCH_SIZE).prefetch(tf.data.AUTOTUNE)"
      ],
      "execution_count": null,
      "outputs": []
    },
    {
      "cell_type": "code",
      "metadata": {
        "colab": {
          "base_uri": "https://localhost:8080/"
        },
        "id": "GMRrcNF2NTa9",
        "outputId": "036a3bf3-8c28-4b3c-d29f-8029f2082753"
      },
      "source": [
        "for text,label in train_data.take(1):\n",
        "  print(\"text:\",text.numpy()[:3])\n",
        "  print('label:',label.numpy()[:3])"
      ],
      "execution_count": null,
      "outputs": [
        {
          "output_type": "stream",
          "text": [
            "text: [b'Revolt of the Zombies is BAD. There is nothing remotely entertaining about the movie. It is dull, lifeless, poorly acted, and poorly scripted. I\\'ve often complained that the original Dracula is a little slow for my taste, well this movie makes Dracula look like a roller coaster ride. The 65 minute running time seemed like 165 minutes.<br /><br />The story: An expedition is sent to Cambodia to find the secrets of mind control through \"zombification\". One man finds the secret and uses it to make the woman he loves marry him. Once this happens, he releases the zombies under his control to horrific consequences. That\\'s it. That\\'s the whole story.<br /><br />For most of the movie, I was trying to figure out where I had seen the male lead. He looked so familiar. I had plenty of time to think this over. Nothing was happening in the movie. Just before the \"zombies revolted\", it hit me. It was Dean Jagger. I had seen him recently as the General in White Christmas. This is how I \"entertained\" myself throughout most of the movie.<br /><br />I\\'m just glad I didn\\'t buy the DVD for this movie. King of the Zombies is on the other side and it\\'s a masterpiece of film making compared with this movie. For what it\\'s worth, I\\'ll give it a 2/10. (I won\\'t go to 1/10 because, believe it or not, I\\'ve seen worse.)'\n",
            " b'Roommates Sugar and Bobby Lee are abducted by menacing dudes while out shopping one day and taken back to a secluded island that the girls reluctantly tell the thugs that they last visited when they were ten years of age and that a fortune is located on. All that just pretty much bookends a movie that is pretty much one long flashback about the girls first visit to the island and subsequent fight with a cannibalistic family.<br /><br />This one is extremely horribly acted by everyone involved to the point that I started feeling bad for poor Hank Worden who truly deserved much MUCH better. As much as I didn\\'t like \"Barracuda\" (that\\'s on the same DVD) I have to admit that this film makes that one look like Citizen Kane.<br /><br />Eye Candy: one pair of tits (they might belong to Kirsten Baker) <br /><br />My Grade: F <br /><br />Dark Sky DVD Extras: Vintage ads for various drive-in food; and Trailers for \"Bonnie\\'s Kids\" (features nudity), \"the Centerfold Girls\", \"Part-time Wife\" (features nudity), \"Psychic Killer\", & \"Eaten Alive\". The DVD also comes with 1978\\'s \"Barracuda\"'\n",
            " b'Well, here\\'s another terrific example of awkward 70\\'s film-making! The rudimentary premise of \"What\\'s the matter with Helen?\" is quite shocking and disturbing, but it\\'s presented in such a stylish and sophisticated fashion! In the hands of any other movie crew, this certainly would have become a nasty and gritty exploitation tale, but with director Curtis Harrington (\"Whoever Slew Auntie Roo?\") and scriptwriter Henry Farrell (\"Hush\\xc2\\x85Hush\\xc2\\x85Sweet Charlotte\") in charge, it became a beautiful and almost enchanting mixture of themes and genres. The basic plot of the film is definitely horrific, but there\\'s a lot more to experience, like love stories, a swinging 1930\\'s atmosphere and a whole lot of singing and tap-dancing! The setting is unquestionably what makes this movie so unique. We\\'re literally catapulted back to the 1930\\'s, with a sublime depiction of that era\\'s music, religion, theatrical business and wardrobes. Following the long and exhausting trial that sentenced their sons to life-imprisonment for murder, Adelle (Debbie Reynolds) and Helen (Shelley Winters) flee to California and attempt to start a new life running a dance school for young talented girls. Particularly Adelle adapts herself perfectly to the new environment, as she falls in love with a local millionaire, but poor old Helen continues to sink in a downwards spiral of insanity and paranoia. She only listens to the ramblings of a radio-evangelist, fears that she will be punished for the crimes her son committed and slowly develops violent tendencies. The script, although not entirely without flaws, is well written and the film is adequately paced. There\\'s never a dull moment in \"What\\'s the matter with Helen\", although the singing, tap-dancing and tango sequences are quite extended and much unrelated to the actual plot. But the atmosphere is continuously ominous and the film definitely benefices from the terrific acting performance of Shelley Winters. She\\'s downright scary as the unpredictable and introvert lady who\\'s about to snap any second and, especially during the last ten minutes or so, she looks more petrifying than all the Freddy Kruegers, Jason Voorhees\\' and Michael Myers\\' combined! There are several terrific supportive characters who are, sadly, a little underdeveloped and robbed from their potential, like Mich\\xc3\\xa9al MacLiamm\\xc3\\xb3ir as the cocky elocution teacher, Agnes Moorehead as the creepy priestess and Timothy Carey as the obtrusive visitor to the ladies\\' house. There are a couple of surprisingly gruesome scenes and moments of genuine shock to enjoy for the Grand Guignol fanatics among us, but particularly the set pieces and costume designs (even nominated for an Oscar!) are breathtaking.']\n",
            "label: [0 0 1]\n"
          ],
          "name": "stdout"
        }
      ]
    },
    {
      "cell_type": "code",
      "metadata": {
        "id": "taoFXYp7OXzm"
      },
      "source": [
        "encoder=tf.keras.layers.experimental.preprocessing.TextVectorization(max_tokens=1000)\n",
        "encoder.adapt(train_data.map(lambda text,lebel:text))"
      ],
      "execution_count": null,
      "outputs": []
    },
    {
      "cell_type": "code",
      "metadata": {
        "colab": {
          "base_uri": "https://localhost:8080/"
        },
        "id": "4UWLDTicRxm7",
        "outputId": "e6f7f458-92fb-4687-bed7-c12998990393"
      },
      "source": [
        "vocabulary=np.array(encoder.get_vocabulary())\n",
        "vocabulary[:25]"
      ],
      "execution_count": null,
      "outputs": [
        {
          "output_type": "execute_result",
          "data": {
            "text/plain": [
              "array(['', '[UNK]', 'the', 'and', 'a', 'of', 'to', 'is', 'in', 'it', 'i',\n",
              "       'this', 'that', 'br', 'was', 'as', 'for', 'with', 'movie', 'but',\n",
              "       'film', 'on', 'not', 'you', 'are'], dtype='<U14')"
            ]
          },
          "metadata": {
            "tags": []
          },
          "execution_count": 10
        }
      ]
    },
    {
      "cell_type": "code",
      "metadata": {
        "colab": {
          "base_uri": "https://localhost:8080/"
        },
        "id": "zwPxZAPWSuJo",
        "outputId": "7905af90-b7f9-468e-d4db-ce2b16e3449c"
      },
      "source": [
        "encoded_example = encoder(text)[:3].numpy()\n",
        "encoded_example"
      ],
      "execution_count": null,
      "outputs": [
        {
          "output_type": "execute_result",
          "data": {
            "text/plain": [
              "array([[  1,   5,   2, ...,   0,   0,   0],\n",
              "       [  1,   1,   3, ...,   0,   0,   0],\n",
              "       [ 74,   1, 154, ...,   0,   0,   0]])"
            ]
          },
          "metadata": {
            "tags": []
          },
          "execution_count": 11
        }
      ]
    },
    {
      "cell_type": "markdown",
      "metadata": {
        "id": "it9c_ArOVlnS"
      },
      "source": [
        "With the default settings, the process is not completely reversible\n",
        "\n",
        "The limited vocabulary size and lack of character-based fallback results in some unknown tokens."
      ]
    },
    {
      "cell_type": "code",
      "metadata": {
        "colab": {
          "base_uri": "https://localhost:8080/"
        },
        "id": "_foXKn82TZRv",
        "outputId": "3ba66c2a-f67c-4e02-8cc5-0ee229744a27"
      },
      "source": [
        "for n in range(3):\n",
        "  print(\"Original: \", text[n].numpy())\n",
        "  print(\"Round-trip: \", \" \".join(vocabulary[encoded_example[n]]))\n",
        "  print()"
      ],
      "execution_count": null,
      "outputs": [
        {
          "output_type": "stream",
          "text": [
            "Original:  b'Revolt of the Zombies is BAD. There is nothing remotely entertaining about the movie. It is dull, lifeless, poorly acted, and poorly scripted. I\\'ve often complained that the original Dracula is a little slow for my taste, well this movie makes Dracula look like a roller coaster ride. The 65 minute running time seemed like 165 minutes.<br /><br />The story: An expedition is sent to Cambodia to find the secrets of mind control through \"zombification\". One man finds the secret and uses it to make the woman he loves marry him. Once this happens, he releases the zombies under his control to horrific consequences. That\\'s it. That\\'s the whole story.<br /><br />For most of the movie, I was trying to figure out where I had seen the male lead. He looked so familiar. I had plenty of time to think this over. Nothing was happening in the movie. Just before the \"zombies revolted\", it hit me. It was Dean Jagger. I had seen him recently as the General in White Christmas. This is how I \"entertained\" myself throughout most of the movie.<br /><br />I\\'m just glad I didn\\'t buy the DVD for this movie. King of the Zombies is on the other side and it\\'s a masterpiece of film making compared with this movie. For what it\\'s worth, I\\'ll give it a 2/10. (I won\\'t go to 1/10 because, believe it or not, I\\'ve seen worse.)'\n",
            "Round-trip:  [UNK] of the [UNK] is bad there is nothing [UNK] entertaining about the movie it is dull [UNK] poorly [UNK] and poorly [UNK] ive often [UNK] that the original [UNK] is a little slow for my [UNK] well this movie makes [UNK] look like a [UNK] [UNK] [UNK] the [UNK] minute running time seemed like [UNK] [UNK] br the story an [UNK] is [UNK] to [UNK] to find the [UNK] of mind [UNK] through [UNK] one man finds the secret and [UNK] it to make the woman he [UNK] [UNK] him once this happens he [UNK] the [UNK] under his [UNK] to [UNK] [UNK] thats it thats the whole [UNK] br for most of the movie i was trying to figure out where i had seen the male lead he looked so [UNK] i had plenty of time to think this over nothing was [UNK] in the movie just before the [UNK] [UNK] it hit me it was [UNK] [UNK] i had seen him [UNK] as the general in white christmas this is how i [UNK] myself throughout most of the moviebr br im just [UNK] i didnt buy the dvd for this movie king of the [UNK] is on the other side and its a [UNK] of film making [UNK] with this movie for what its worth ill give it a [UNK] i wont go to [UNK] because believe it or not ive seen worse                                                                                                                                                                                                                                                                                                                                                                                                                                                                                                                                                                                                                                                                                                                                                                         \n",
            "\n",
            "Original:  b'Roommates Sugar and Bobby Lee are abducted by menacing dudes while out shopping one day and taken back to a secluded island that the girls reluctantly tell the thugs that they last visited when they were ten years of age and that a fortune is located on. All that just pretty much bookends a movie that is pretty much one long flashback about the girls first visit to the island and subsequent fight with a cannibalistic family.<br /><br />This one is extremely horribly acted by everyone involved to the point that I started feeling bad for poor Hank Worden who truly deserved much MUCH better. As much as I didn\\'t like \"Barracuda\" (that\\'s on the same DVD) I have to admit that this film makes that one look like Citizen Kane.<br /><br />Eye Candy: one pair of tits (they might belong to Kirsten Baker) <br /><br />My Grade: F <br /><br />Dark Sky DVD Extras: Vintage ads for various drive-in food; and Trailers for \"Bonnie\\'s Kids\" (features nudity), \"the Centerfold Girls\", \"Part-time Wife\" (features nudity), \"Psychic Killer\", & \"Eaten Alive\". The DVD also comes with 1978\\'s \"Barracuda\"'\n",
            "Round-trip:  [UNK] [UNK] and [UNK] lee are [UNK] by [UNK] [UNK] while out [UNK] one day and taken back to a [UNK] [UNK] that the girls [UNK] tell the [UNK] that they last [UNK] when they were ten years of age and that a [UNK] is [UNK] on all that just pretty much [UNK] a movie that is pretty much one long [UNK] about the girls first [UNK] to the [UNK] and [UNK] fight with a [UNK] [UNK] br this one is extremely [UNK] [UNK] by everyone involved to the point that i started feeling bad for poor [UNK] [UNK] who truly [UNK] much much better as much as i didnt like [UNK] thats on the same dvd i have to admit that this film makes that one look like [UNK] [UNK] br eye [UNK] one [UNK] of [UNK] they might [UNK] to [UNK] [UNK] br br my [UNK] [UNK] br br dark [UNK] dvd [UNK] [UNK] [UNK] for various [UNK] [UNK] and [UNK] for [UNK] kids features [UNK] the [UNK] girls [UNK] wife features [UNK] [UNK] killer [UNK] [UNK] the dvd also comes with [UNK] [UNK]                                                                                                                                                                                                                                                                                                                                                                                                                                                                                                                                                                                                                                                                                                                                                                                                                           \n",
            "\n",
            "Original:  b'Well, here\\'s another terrific example of awkward 70\\'s film-making! The rudimentary premise of \"What\\'s the matter with Helen?\" is quite shocking and disturbing, but it\\'s presented in such a stylish and sophisticated fashion! In the hands of any other movie crew, this certainly would have become a nasty and gritty exploitation tale, but with director Curtis Harrington (\"Whoever Slew Auntie Roo?\") and scriptwriter Henry Farrell (\"Hush\\xc2\\x85Hush\\xc2\\x85Sweet Charlotte\") in charge, it became a beautiful and almost enchanting mixture of themes and genres. The basic plot of the film is definitely horrific, but there\\'s a lot more to experience, like love stories, a swinging 1930\\'s atmosphere and a whole lot of singing and tap-dancing! The setting is unquestionably what makes this movie so unique. We\\'re literally catapulted back to the 1930\\'s, with a sublime depiction of that era\\'s music, religion, theatrical business and wardrobes. Following the long and exhausting trial that sentenced their sons to life-imprisonment for murder, Adelle (Debbie Reynolds) and Helen (Shelley Winters) flee to California and attempt to start a new life running a dance school for young talented girls. Particularly Adelle adapts herself perfectly to the new environment, as she falls in love with a local millionaire, but poor old Helen continues to sink in a downwards spiral of insanity and paranoia. She only listens to the ramblings of a radio-evangelist, fears that she will be punished for the crimes her son committed and slowly develops violent tendencies. The script, although not entirely without flaws, is well written and the film is adequately paced. There\\'s never a dull moment in \"What\\'s the matter with Helen\", although the singing, tap-dancing and tango sequences are quite extended and much unrelated to the actual plot. But the atmosphere is continuously ominous and the film definitely benefices from the terrific acting performance of Shelley Winters. She\\'s downright scary as the unpredictable and introvert lady who\\'s about to snap any second and, especially during the last ten minutes or so, she looks more petrifying than all the Freddy Kruegers, Jason Voorhees\\' and Michael Myers\\' combined! There are several terrific supportive characters who are, sadly, a little underdeveloped and robbed from their potential, like Mich\\xc3\\xa9al MacLiamm\\xc3\\xb3ir as the cocky elocution teacher, Agnes Moorehead as the creepy priestess and Timothy Carey as the obtrusive visitor to the ladies\\' house. There are a couple of surprisingly gruesome scenes and moments of genuine shock to enjoy for the Grand Guignol fanatics among us, but particularly the set pieces and costume designs (even nominated for an Oscar!) are breathtaking.'\n",
            "Round-trip:  well [UNK] another [UNK] example of [UNK] 70s [UNK] the [UNK] premise of whats the matter with [UNK] is quite [UNK] and [UNK] but its [UNK] in such a [UNK] and [UNK] [UNK] in the hands of any other movie [UNK] this certainly would have become a [UNK] and [UNK] [UNK] tale but with director [UNK] [UNK] [UNK] [UNK] [UNK] [UNK] and [UNK] [UNK] [UNK] [UNK] [UNK] in [UNK] it became a beautiful and almost [UNK] [UNK] of [UNK] and [UNK] the [UNK] plot of the film is definitely [UNK] but theres a lot more to experience like love stories a [UNK] [UNK] atmosphere and a whole lot of [UNK] and [UNK] the setting is [UNK] what makes this movie so unique were [UNK] [UNK] back to the [UNK] with a [UNK] [UNK] of that [UNK] music [UNK] [UNK] business and [UNK] [UNK] the long and [UNK] [UNK] that [UNK] their [UNK] to [UNK] for murder [UNK] [UNK] [UNK] and [UNK] [UNK] [UNK] [UNK] to [UNK] and attempt to start a new life running a dance school for young [UNK] girls particularly [UNK] [UNK] herself perfectly to the new [UNK] as she falls in love with a local [UNK] but poor old [UNK] [UNK] to [UNK] in a [UNK] [UNK] of [UNK] and [UNK] she only [UNK] to the [UNK] of a [UNK] [UNK] that she will be [UNK] for the [UNK] her son [UNK] and [UNK] [UNK] [UNK] [UNK] the script although not [UNK] without [UNK] is well written and the film is [UNK] [UNK] theres never a dull moment in whats the matter with [UNK] although the [UNK] [UNK] and [UNK] sequences are quite [UNK] and much [UNK] to the actual plot but the atmosphere is [UNK] [UNK] and the film definitely [UNK] from the [UNK] acting performance of [UNK] [UNK] shes [UNK] scary as the [UNK] and [UNK] lady whos about to [UNK] any second and especially during the last ten minutes or so she looks more [UNK] than all the [UNK] [UNK] [UNK] [UNK] and michael [UNK] [UNK] there are several [UNK] [UNK] characters who are [UNK] a little [UNK] and [UNK] from their potential like [UNK] [UNK] as the [UNK] [UNK] [UNK] [UNK] [UNK] as the creepy [UNK] and [UNK] [UNK] as the [UNK] [UNK] to the [UNK] house there are a couple of [UNK] [UNK] scenes and moments of [UNK] [UNK] to enjoy for the [UNK] [UNK] [UNK] among us but particularly the set [UNK] and [UNK] [UNK] even [UNK] for an oscar are [UNK]                                                                                                                                                                                                                                                                                                                                                                                                                                                                                                                                                                                \n",
            "\n"
          ],
          "name": "stdout"
        }
      ]
    },
    {
      "cell_type": "code",
      "metadata": {
        "id": "S6X-BJFqV4xs"
      },
      "source": [
        "model=keras.Sequential([\n",
        "                        encoder,\n",
        "                        layers.Embedding(input_dim=len(encoder.get_vocabulary()),output_dim=64,mask_zero=True),\n",
        "                        layers.Bidirectional(layers.LSTM(64)),\n",
        "                        layers.Dense(64,activation='relu'),\n",
        "                        layers.Dense(1)\n",
        "\n",
        "])\n",
        "\n",
        "model.compile(optimizer=keras.optimizers.Adam(1e-4),loss=keras.losses.BinaryCrossentropy(from_logits=True),metrics=['accuracy'])"
      ],
      "execution_count": null,
      "outputs": []
    },
    {
      "cell_type": "code",
      "metadata": {
        "colab": {
          "base_uri": "https://localhost:8080/"
        },
        "id": "vdz0N0EHcRk_",
        "outputId": "7d24a81d-1e2e-4acc-96d2-44c0f9a298de"
      },
      "source": [
        "history=model.fit(train_data,validation_data=test_data,epochs=5)"
      ],
      "execution_count": null,
      "outputs": [
        {
          "output_type": "stream",
          "text": [
            "Epoch 1/5\n",
            "391/391 [==============================] - 55s 106ms/step - loss: 0.6747 - accuracy: 0.5263 - val_loss: 0.4371 - val_accuracy: 0.7876\n",
            "Epoch 2/5\n",
            "391/391 [==============================] - 40s 102ms/step - loss: 0.4091 - accuracy: 0.8109 - val_loss: 0.3436 - val_accuracy: 0.8477\n",
            "Epoch 3/5\n",
            "391/391 [==============================] - 40s 100ms/step - loss: 0.3323 - accuracy: 0.8538 - val_loss: 0.3253 - val_accuracy: 0.8499\n",
            "Epoch 4/5\n",
            "391/391 [==============================] - 40s 101ms/step - loss: 0.3192 - accuracy: 0.8598 - val_loss: 0.3198 - val_accuracy: 0.8553\n",
            "Epoch 5/5\n",
            "391/391 [==============================] - 40s 101ms/step - loss: 0.3186 - accuracy: 0.8627 - val_loss: 0.3245 - val_accuracy: 0.8622\n"
          ],
          "name": "stdout"
        }
      ]
    },
    {
      "cell_type": "code",
      "metadata": {
        "colab": {
          "base_uri": "https://localhost:8080/"
        },
        "id": "FPAimWF4rOPh",
        "outputId": "ff85e726-d28e-4c93-9a9f-142574f233b5"
      },
      "source": [
        "test_loss,test_acc=model.evaluate(test_data)\n",
        "print('test_loss {}'.format(test_loss))\n",
        "print('test_acc{}'.format(test_acc))"
      ],
      "execution_count": null,
      "outputs": [
        {
          "output_type": "stream",
          "text": [
            "391/391 [==============================] - 13s 33ms/step - loss: 0.3245 - accuracy: 0.8622\n",
            "test_loss 0.3244667947292328\n",
            "test_acc0.8622000217437744\n"
          ],
          "name": "stdout"
        }
      ]
    },
    {
      "cell_type": "code",
      "metadata": {
        "id": "r3K_LnjPrkzC"
      },
      "source": [
        ""
      ],
      "execution_count": null,
      "outputs": []
    },
    {
      "cell_type": "code",
      "metadata": {
        "colab": {
          "base_uri": "https://localhost:8080/"
        },
        "id": "MCXGtDCZuqTc",
        "outputId": "d830bdef-53da-4b6e-b84e-c4852d9a0fbe"
      },
      "source": [
        "sample_text=('the story line normal,but the screenplay was so strong,graphics and music is awesome overall it is a good movie ')\n",
        "prediction=model.predict(np.array([sample_text]))\n",
        "print(prediction[0])"
      ],
      "execution_count": null,
      "outputs": [
        {
          "output_type": "stream",
          "text": [
            "[0.8130478]\n"
          ],
          "name": "stdout"
        }
      ]
    }
  ]
}